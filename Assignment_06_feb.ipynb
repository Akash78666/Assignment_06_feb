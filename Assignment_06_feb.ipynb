{
 "cells": [
  {
   "cell_type": "code",
   "execution_count": 1,
   "id": "c93b5421-169c-48a6-8687-1162fbdb9ecd",
   "metadata": {},
   "outputs": [
    {
     "name": "stdout",
     "output_type": "stream",
     "text": [
      "r$dzmg$gl$yvxlnv$z$wzgz$hxrvmgrhg.\n"
     ]
    }
   ],
   "source": [
    "x=\"I want to become a Data Scientist.\"\n",
    "x=x.lower()\n",
    "strList=list(x)\n",
    "i=0\n",
    "while i<len(strList):\n",
    "    if strList[i]>='a' and strList[i]<='z':\n",
    "        strList[i]=chr(ord('z')-ord(strList[i])+ord('a'))\n",
    "    elif x[i]==' ':\n",
    "        strList[i]='$'\n",
    "    \n",
    "    i+=1\n",
    "x = \"\".join(strList)\n",
    "print(x)"
   ]
  },
  {
   "cell_type": "code",
   "execution_count": null,
   "id": "6cdf4012-589c-4f27-80bb-f8082a24173d",
   "metadata": {},
   "outputs": [],
   "source": []
  }
 ],
 "metadata": {
  "kernelspec": {
   "display_name": "Python 3 (ipykernel)",
   "language": "python",
   "name": "python3"
  },
  "language_info": {
   "codemirror_mode": {
    "name": "ipython",
    "version": 3
   },
   "file_extension": ".py",
   "mimetype": "text/x-python",
   "name": "python",
   "nbconvert_exporter": "python",
   "pygments_lexer": "ipython3",
   "version": "3.10.8"
  }
 },
 "nbformat": 4,
 "nbformat_minor": 5
}
